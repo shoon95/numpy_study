{
 "cells": [
  {
   "cell_type": "markdown",
   "id": "aae3f8a2",
   "metadata": {},
   "source": [
    "# Array creation"
   ]
  },
  {
   "cell_type": "markdown",
   "id": "d5ebb455",
   "metadata": {},
   "source": [
    "## 1) Converting Python sequences to NumPy Arrays"
   ]
  },
  {
   "cell_type": "code",
   "execution_count": 3,
   "id": "fc52b937",
   "metadata": {},
   "outputs": [],
   "source": [
    "import numpy as np"
   ]
  },
  {
   "cell_type": "code",
   "execution_count": 4,
   "id": "d908ec04",
   "metadata": {},
   "outputs": [],
   "source": [
    "a1D = np.array([1, 2, 3, 4])\n",
    "a2D = np.array([[1, 2], [3, 4]])\n",
    "a3D = np.array([[[1, 2], [3, 4]], [[5, 6], [7, 8]]])"
   ]
  },
  {
   "cell_type": "code",
   "execution_count": 5,
   "id": "6af09151",
   "metadata": {},
   "outputs": [
    {
     "name": "stderr",
     "output_type": "stream",
     "text": [
      "/var/folders/02/3zg143ts7ns3ljpxq1jpv2v40000gn/T/ipykernel_15033/1729105665.py:1: DeprecationWarning: NumPy will stop allowing conversion of out-of-bound Python integers to integer arrays.  The conversion of 128 to int8 will fail in the future.\n",
      "For the old behavior, usually:\n",
      "    np.array(value).astype(dtype)`\n",
      "will give the desired result (the cast overflows).\n",
      "  a = np.array([127, 128, 19], dtype = np.int8)\n"
     ]
    }
   ],
   "source": [
    "a = np.array([127, 128, 19], dtype = np.int8)"
   ]
  },
  {
   "cell_type": "code",
   "execution_count": 6,
   "id": "b3c0054d",
   "metadata": {},
   "outputs": [
    {
     "name": "stdout",
     "output_type": "stream",
     "text": [
      "[ 127 -128 -127]\n"
     ]
    },
    {
     "name": "stderr",
     "output_type": "stream",
     "text": [
      "/var/folders/02/3zg143ts7ns3ljpxq1jpv2v40000gn/T/ipykernel_15033/825463051.py:1: DeprecationWarning: NumPy will stop allowing conversion of out-of-bound Python integers to integer arrays.  The conversion of 128 to int8 will fail in the future.\n",
      "For the old behavior, usually:\n",
      "    np.array(value).astype(dtype)`\n",
      "will give the desired result (the cast overflows).\n",
      "  a = np.array([127, 128, 129], dtype=np.int8)\n",
      "/var/folders/02/3zg143ts7ns3ljpxq1jpv2v40000gn/T/ipykernel_15033/825463051.py:1: DeprecationWarning: NumPy will stop allowing conversion of out-of-bound Python integers to integer arrays.  The conversion of 129 to int8 will fail in the future.\n",
      "For the old behavior, usually:\n",
      "    np.array(value).astype(dtype)`\n",
      "will give the desired result (the cast overflows).\n",
      "  a = np.array([127, 128, 129], dtype=np.int8)\n"
     ]
    }
   ],
   "source": [
    "a = np.array([127, 128, 129], dtype=np.int8)\n",
    "print(a)"
   ]
  },
  {
   "cell_type": "code",
   "execution_count": 8,
   "id": "304d0aa2",
   "metadata": {},
   "outputs": [],
   "source": [
    "a = np.array([2, 3, 4], dtype=np.uint32)\n",
    "b = np.array([5, 6, 7], dtype=np.uint32)\n",
    "c_unsigned32 = a - b"
   ]
  },
  {
   "cell_type": "code",
   "execution_count": 11,
   "id": "af1e06d2",
   "metadata": {},
   "outputs": [],
   "source": [
    "c_signed32 = a - b.astype(np.int32)"
   ]
  },
  {
   "cell_type": "code",
   "execution_count": 12,
   "id": "27d39478",
   "metadata": {},
   "outputs": [
    {
     "data": {
      "text/plain": [
       "array([-3, -3, -3])"
      ]
     },
     "execution_count": 12,
     "metadata": {},
     "output_type": "execute_result"
    }
   ],
   "source": [
    "c_signed32"
   ]
  },
  {
   "cell_type": "markdown",
   "id": "8affe1b6",
   "metadata": {},
   "source": [
    "## Intrinsic Numpy array creation functions"
   ]
  },
  {
   "cell_type": "markdown",
   "id": "22eb7649",
   "metadata": {},
   "source": [
    "### 1-1D array creation functions"
   ]
  },
  {
   "cell_type": "code",
   "execution_count": 14,
   "id": "38379a33",
   "metadata": {},
   "outputs": [
    {
     "data": {
      "text/plain": [
       "array([0, 1, 2, 3, 4, 5, 6, 7, 8, 9])"
      ]
     },
     "execution_count": 14,
     "metadata": {},
     "output_type": "execute_result"
    }
   ],
   "source": [
    "np.arange(10)"
   ]
  },
  {
   "cell_type": "code",
   "execution_count": 15,
   "id": "8071b701",
   "metadata": {},
   "outputs": [
    {
     "data": {
      "text/plain": [
       "array([2., 3., 4., 5., 6., 7., 8., 9.])"
      ]
     },
     "execution_count": 15,
     "metadata": {},
     "output_type": "execute_result"
    }
   ],
   "source": [
    "np.arange(2, 10, dtype=float)"
   ]
  },
  {
   "cell_type": "code",
   "execution_count": 16,
   "id": "d07d3b26",
   "metadata": {},
   "outputs": [
    {
     "data": {
      "text/plain": [
       "array([2. , 2.1, 2.2, 2.3, 2.4, 2.5, 2.6, 2.7, 2.8, 2.9])"
      ]
     },
     "execution_count": 16,
     "metadata": {},
     "output_type": "execute_result"
    }
   ],
   "source": [
    "np.arange(2, 3, 0.1)"
   ]
  },
  {
   "cell_type": "code",
   "execution_count": 17,
   "id": "52140935",
   "metadata": {},
   "outputs": [
    {
     "data": {
      "text/plain": [
       "array([1. , 1.6, 2.2, 2.8, 3.4, 4. ])"
      ]
     },
     "execution_count": 17,
     "metadata": {},
     "output_type": "execute_result"
    }
   ],
   "source": [
    "np.linspace(1., 4., 6)"
   ]
  },
  {
   "cell_type": "markdown",
   "id": "888c6ce0",
   "metadata": {},
   "source": [
    "### 2-2D array creation funtions"
   ]
  },
  {
   "cell_type": "code",
   "execution_count": 20,
   "id": "fa69da63",
   "metadata": {},
   "outputs": [
    {
     "data": {
      "text/plain": [
       "array([[1., 0., 0.],\n",
       "       [0., 1., 0.],\n",
       "       [0., 0., 1.]])"
      ]
     },
     "execution_count": 20,
     "metadata": {},
     "output_type": "execute_result"
    }
   ],
   "source": [
    "np.eye(3)"
   ]
  },
  {
   "cell_type": "code",
   "execution_count": 21,
   "id": "89e2f587",
   "metadata": {},
   "outputs": [
    {
     "data": {
      "text/plain": [
       "array([[1., 0., 0., 0., 0.],\n",
       "       [0., 1., 0., 0., 0.],\n",
       "       [0., 0., 1., 0., 0.]])"
      ]
     },
     "execution_count": 21,
     "metadata": {},
     "output_type": "execute_result"
    }
   ],
   "source": [
    "np.eye(3, 5)"
   ]
  },
  {
   "cell_type": "code",
   "execution_count": 22,
   "id": "f1f871f1",
   "metadata": {},
   "outputs": [
    {
     "data": {
      "text/plain": [
       "array([[1, 0, 0],\n",
       "       [0, 2, 0],\n",
       "       [0, 0, 3]])"
      ]
     },
     "execution_count": 22,
     "metadata": {},
     "output_type": "execute_result"
    }
   ],
   "source": [
    "np.diag([1, 2, 3])"
   ]
  },
  {
   "cell_type": "code",
   "execution_count": 27,
   "id": "f7d31bae",
   "metadata": {},
   "outputs": [
    {
     "data": {
      "text/plain": [
       "array([[0, 1, 0, 0],\n",
       "       [0, 0, 2, 0],\n",
       "       [0, 0, 0, 3],\n",
       "       [0, 0, 0, 0]])"
      ]
     },
     "execution_count": 27,
     "metadata": {},
     "output_type": "execute_result"
    }
   ],
   "source": [
    "np.diag([1, 2, 3], 1)"
   ]
  },
  {
   "cell_type": "code",
   "execution_count": 28,
   "id": "a24eaf00",
   "metadata": {},
   "outputs": [
    {
     "data": {
      "text/plain": [
       "array([1, 4])"
      ]
     },
     "execution_count": 28,
     "metadata": {},
     "output_type": "execute_result"
    }
   ],
   "source": [
    "a = np.array([[1, 2], [3, 4]])\n",
    "np.diag(a)"
   ]
  },
  {
   "cell_type": "code",
   "execution_count": 30,
   "id": "0300bd5e",
   "metadata": {},
   "outputs": [
    {
     "data": {
      "text/plain": [
       "array([[0.  , 0.  , 1.  ],\n",
       "       [0.25, 0.5 , 1.  ],\n",
       "       [1.  , 1.  , 1.  ],\n",
       "       [2.25, 1.5 , 1.  ],\n",
       "       [4.  , 2.  , 1.  ]])"
      ]
     },
     "execution_count": 30,
     "metadata": {},
     "output_type": "execute_result"
    }
   ],
   "source": [
    "np.vander(np.linspace(0, 2, 5), 3)"
   ]
  },
  {
   "cell_type": "markdown",
   "id": "f69d4ae0",
   "metadata": {},
   "source": [
    "### 3 - general ndarray creation functions"
   ]
  },
  {
   "cell_type": "code",
   "execution_count": 31,
   "id": "6408502c",
   "metadata": {},
   "outputs": [
    {
     "data": {
      "text/plain": [
       "array([[0., 0., 0.],\n",
       "       [0., 0., 0.]])"
      ]
     },
     "execution_count": 31,
     "metadata": {},
     "output_type": "execute_result"
    }
   ],
   "source": [
    "np.zeros((2, 3))"
   ]
  },
  {
   "cell_type": "code",
   "execution_count": 32,
   "id": "70942c65",
   "metadata": {},
   "outputs": [
    {
     "data": {
      "text/plain": [
       "array([[[0., 0.],\n",
       "        [0., 0.],\n",
       "        [0., 0.]],\n",
       "\n",
       "       [[0., 0.],\n",
       "        [0., 0.],\n",
       "        [0., 0.]]])"
      ]
     },
     "execution_count": 32,
     "metadata": {},
     "output_type": "execute_result"
    }
   ],
   "source": [
    "np.zeros((2, 3, 2))"
   ]
  },
  {
   "cell_type": "code",
   "execution_count": 33,
   "id": "99545108",
   "metadata": {},
   "outputs": [],
   "source": [
    "from numpy.random import default_rng"
   ]
  },
  {
   "cell_type": "code",
   "execution_count": 34,
   "id": "8e6f5631",
   "metadata": {},
   "outputs": [
    {
     "data": {
      "text/plain": [
       "array([[0.77395605, 0.43887844, 0.85859792],\n",
       "       [0.69736803, 0.09417735, 0.97562235]])"
      ]
     },
     "execution_count": 34,
     "metadata": {},
     "output_type": "execute_result"
    }
   ],
   "source": [
    "default_rng(42).random((2, 3))"
   ]
  },
  {
   "cell_type": "code",
   "execution_count": 38,
   "id": "811102fc",
   "metadata": {},
   "outputs": [
    {
     "data": {
      "text/plain": [
       "array([[[0, 0, 0],\n",
       "        [1, 1, 1],\n",
       "        [2, 2, 2],\n",
       "        [3, 3, 3]],\n",
       "\n",
       "       [[0, 1, 2],\n",
       "        [0, 1, 2],\n",
       "        [0, 1, 2],\n",
       "        [0, 1, 2]]])"
      ]
     },
     "execution_count": 38,
     "metadata": {},
     "output_type": "execute_result"
    }
   ],
   "source": [
    "np.indices((4, 3))"
   ]
  },
  {
   "cell_type": "markdown",
   "id": "26eb5657",
   "metadata": {},
   "source": [
    "## 3) Replicating, joining, or mutating existing arrays"
   ]
  },
  {
   "cell_type": "code",
   "execution_count": 39,
   "id": "d4cfa9d3",
   "metadata": {},
   "outputs": [
    {
     "name": "stdout",
     "output_type": "stream",
     "text": [
      "a= [2 3 3 4 5 6] ; b = [2 3]\n"
     ]
    }
   ],
   "source": [
    "a = np.array([1, 2, 3, 4, 5, 6])\n",
    "b = a[:2]\n",
    "b += 1\n",
    "print('a=', a, '; b =', b)"
   ]
  },
  {
   "cell_type": "code",
   "execution_count": 40,
   "id": "27996846",
   "metadata": {},
   "outputs": [
    {
     "name": "stdout",
     "output_type": "stream",
     "text": [
      "a =  [1 2 3 4] ; b =  [2 3]\n"
     ]
    }
   ],
   "source": [
    "a = np.array([1, 2, 3, 4])\n",
    "b = a[:2].copy()\n",
    "b += 1\n",
    "print('a = ', a, '; b = ', b)"
   ]
  },
  {
   "cell_type": "code",
   "execution_count": 41,
   "id": "824f99bd",
   "metadata": {},
   "outputs": [
    {
     "data": {
      "text/plain": [
       "array([[ 1.,  1.,  1.,  0.],\n",
       "       [ 1.,  1.,  0.,  1.],\n",
       "       [ 0.,  0., -3.,  0.],\n",
       "       [ 0.,  0.,  0., -4.]])"
      ]
     },
     "execution_count": 41,
     "metadata": {},
     "output_type": "execute_result"
    }
   ],
   "source": [
    "A = np.ones((2, 2))\n",
    "B = np.eye(2, 2)\n",
    "C = np.zeros((2, 2))\n",
    "D = np.diag((-3, -4))\n",
    "np.block([[A, B], [C, D]])"
   ]
  },
  {
   "cell_type": "code",
   "execution_count": 47,
   "id": "7a6785f9",
   "metadata": {},
   "outputs": [
    {
     "data": {
      "text/plain": [
       "array([[1., 1.],\n",
       "       [1., 1.],\n",
       "       [1., 0.],\n",
       "       [0., 1.]])"
      ]
     },
     "execution_count": 47,
     "metadata": {},
     "output_type": "execute_result"
    }
   ],
   "source": [
    "np.block([[A], [B]])"
   ]
  },
  {
   "cell_type": "markdown",
   "id": "c587cfa6",
   "metadata": {},
   "source": [
    "## 4) Reading arrays from disk, either from standard or custom formats"
   ]
  },
  {
   "cell_type": "code",
   "execution_count": null,
   "id": "0831fd66",
   "metadata": {},
   "outputs": [],
   "source": []
  }
 ],
 "metadata": {
  "kernelspec": {
   "display_name": "Python 3 (ipykernel)",
   "language": "python",
   "name": "python3"
  },
  "language_info": {
   "codemirror_mode": {
    "name": "ipython",
    "version": 3
   },
   "file_extension": ".py",
   "mimetype": "text/x-python",
   "name": "python",
   "nbconvert_exporter": "python",
   "pygments_lexer": "ipython3",
   "version": "3.9.16"
  }
 },
 "nbformat": 4,
 "nbformat_minor": 5
}
